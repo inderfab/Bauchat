{
 "cells": [
  {
   "cell_type": "code",
   "execution_count": 23,
   "id": "d00dfab2",
   "metadata": {},
   "outputs": [],
   "source": [
    "import ai\n",
    "import db\n",
    "import boto3\n",
    "import pickle"
   ]
  },
  {
   "cell_type": "code",
   "execution_count": 6,
   "id": "05ba33fd",
   "metadata": {},
   "outputs": [],
   "source": [
    "import os\n",
    "import dotenv\n",
    "dotenv.load_dotenv()\n",
    "AWS_ACCESS_KEY_ID = os.environ.get(\"AWS_ACCESS_KEY_ID\")\n",
    "AWS_SECRET_ACCESS_KEY = os.environ.get(\"AWS_SECRET_ACCESS_KEY\")\n",
    "AWS_DEFAULT_REGION = os.environ.get(\"AWS_DEFAULT_REGION\")\n",
    "AWS_BUCKET_NAME = os.environ.get(\"AWS_BUCKET_NAME\")"
   ]
  },
  {
   "cell_type": "code",
   "execution_count": 10,
   "id": "7d93dff8",
   "metadata": {},
   "outputs": [],
   "source": [
    "path = 'richtlinien/BFU/'"
   ]
  },
  {
   "cell_type": "code",
   "execution_count": 11,
   "id": "d547f7b9",
   "metadata": {},
   "outputs": [],
   "source": [
    "def s3_download_files(path) :\n",
    "    client = boto3.client(\"s3\")\n",
    "    bucket = \"bauchatstorage\"\n",
    "    path = os.path.join(path,\"docs/\")\n",
    "    response=client.list_objects_v2(Bucket=bucket,Prefix  = path)['Contents']\n",
    "    return response"
   ]
  },
  {
   "cell_type": "code",
   "execution_count": 14,
   "id": "fbf89512",
   "metadata": {},
   "outputs": [],
   "source": [
    "response = s3_download_files(path)\n"
   ]
  },
  {
   "cell_type": "code",
   "execution_count": null,
   "id": "69eb90aa",
   "metadata": {},
   "outputs": [],
   "source": [
    "files = []\n",
    "for f in response[:4]:\n",
    "    key = f[\"Key\"]\n",
    "    if key.endswith(\".pkl\"):\n",
    "        print(\"Key: \", key)\n",
    "        client = boto3.client(\"s3\")\n",
    "        bucket = \"bauchatstorage\"\n",
    "        file = client.get_object(Bucket=bucket,Key=key)\n",
    "        file = file['Body'].read()\n",
    "        file = pickle.loads(file)\n",
    "        files.append(file)"
   ]
  },
  {
   "cell_type": "code",
   "execution_count": null,
   "id": "1a55cca0",
   "metadata": {},
   "outputs": [],
   "source": []
  },
  {
   "cell_type": "code",
   "execution_count": null,
   "id": "ade0811d",
   "metadata": {},
   "outputs": [],
   "source": []
  },
  {
   "cell_type": "code",
   "execution_count": null,
   "id": "89e0c1f4",
   "metadata": {},
   "outputs": [],
   "source": []
  },
  {
   "cell_type": "code",
   "execution_count": null,
   "id": "23416f31",
   "metadata": {},
   "outputs": [
    {
     "name": "stdout",
     "output_type": "stream",
     "text": [
      "Stores to download ['richtlinien/BFU/']\n"
     ]
    }
   ],
   "source": [
    "stores = ai.load_store(paths)"
   ]
  },
  {
   "cell_type": "code",
   "execution_count": null,
   "id": "1310f926",
   "metadata": {},
   "outputs": [],
   "source": [
    "store_list = funcy.lflatten(stores)"
   ]
  },
  {
   "cell_type": "code",
   "execution_count": null,
   "id": "a522cdd5",
   "metadata": {},
   "outputs": [],
   "source": [
    "if len(store_list)>1:\n",
    "    vector_store = ai.merge_faiss_stores(store_list)\n",
    "else:\n",
    "    vector_store = store_list[0]"
   ]
  },
  {
   "cell_type": "code",
   "execution_count": null,
   "id": "49a8b3fb",
   "metadata": {},
   "outputs": [],
   "source": [
    "query = 'Wie hoch muss ein Treppengeländer sein'\n",
    "message = ai.bauchat_query(query,vector_store)\n",
    "message"
   ]
  },
  {
   "cell_type": "code",
   "execution_count": null,
   "id": "50e9c631",
   "metadata": {},
   "outputs": [],
   "source": [
    "#d.chat_display(st.session_state.messages)"
   ]
  },
  {
   "cell_type": "code",
   "execution_count": null,
   "id": "b1dedff4",
   "metadata": {},
   "outputs": [],
   "source": []
  }
 ],
 "metadata": {
  "kernelspec": {
   "display_name": "Python 3 (ipykernel)",
   "language": "python",
   "name": "python3"
  },
  "language_info": {
   "codemirror_mode": {
    "name": "ipython",
    "version": 3
   },
   "file_extension": ".py",
   "mimetype": "text/x-python",
   "name": "python",
   "nbconvert_exporter": "python",
   "pygments_lexer": "ipython3",
   "version": "3.9.18"
  }
 },
 "nbformat": 4,
 "nbformat_minor": 5
}
