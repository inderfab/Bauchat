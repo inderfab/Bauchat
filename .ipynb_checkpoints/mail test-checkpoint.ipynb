{
 "cells": [
  {
   "cell_type": "code",
   "execution_count": 1,
   "id": "79fb4bd5",
   "metadata": {},
   "outputs": [
    {
     "name": "stderr",
     "output_type": "stream",
     "text": [
      "2025-01-21 20:35:02.208 WARNING streamlit.runtime.state.session_state_proxy: Session state does not function when running a script without `streamlit run`\n"
     ]
    }
   ],
   "source": [
    "import mail"
   ]
  },
  {
   "cell_type": "code",
   "execution_count": null,
   "id": "b022bf42",
   "metadata": {},
   "outputs": [],
   "source": [
    "to = 'fabio.indergand@gmail.com'\n",
    "subject = 'test'\n",
    "msg = 'äüö'\n",
    "\n",
    "send_mail(to,subject,msg)"
   ]
  }
 ],
 "metadata": {
  "kernelspec": {
   "display_name": "Python 3 (ipykernel)",
   "language": "python",
   "name": "python3"
  },
  "language_info": {
   "codemirror_mode": {
    "name": "ipython",
    "version": 3
   },
   "file_extension": ".py",
   "mimetype": "text/x-python",
   "name": "python",
   "nbconvert_exporter": "python",
   "pygments_lexer": "ipython3",
   "version": "3.9.18"
  }
 },
 "nbformat": 4,
 "nbformat_minor": 5
}
