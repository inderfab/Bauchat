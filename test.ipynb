{
 "cells": [
  {
   "cell_type": "code",
   "execution_count": 1,
   "id": "3a43d5a4",
   "metadata": {},
   "outputs": [
    {
     "name": "stderr",
     "output_type": "stream",
     "text": [
      "2025-01-01 16:35:38.043 WARNING streamlit.runtime.state.session_state_proxy: Session state does not function when running a script without `streamlit run`\n",
      "2025-01-01 16:35:39.382 WARNING streamlit.runtime.caching.cache_data_api: No runtime found, using MemoryCacheStorageManager\n",
      "2025-01-01 16:35:39.384 WARNING streamlit.runtime.caching.cache_data_api: No runtime found, using MemoryCacheStorageManager\n",
      "2025-01-01 16:35:39.385 WARNING streamlit.runtime.caching.cache_data_api: No runtime found, using MemoryCacheStorageManager\n",
      "2025-01-01 16:35:39.386 WARNING streamlit.runtime.caching.cache_data_api: No runtime found, using MemoryCacheStorageManager\n",
      "2025-01-01 16:35:39.387 WARNING streamlit.runtime.caching.cache_data_api: No runtime found, using MemoryCacheStorageManager\n",
      "2025-01-01 16:35:39.388 WARNING streamlit.runtime.caching.cache_data_api: No runtime found, using MemoryCacheStorageManager\n",
      "2025-01-01 16:35:39.389 WARNING streamlit.runtime.caching.cache_data_api: No runtime found, using MemoryCacheStorageManager\n",
      "2025-01-01 16:35:39.389 WARNING streamlit.runtime.caching.cache_data_api: No runtime found, using MemoryCacheStorageManager\n"
     ]
    }
   ],
   "source": [
    "import db"
   ]
  },
  {
   "cell_type": "code",
   "execution_count": 22,
   "id": "500790a0",
   "metadata": {},
   "outputs": [
    {
     "name": "stdout",
     "output_type": "stream",
     "text": [
      "user collections heruntergeladen\n"
     ]
    }
   ],
   "source": [
    "d = db.get_data('adigross')[0]"
   ]
  },
  {
   "cell_type": "code",
   "execution_count": 23,
   "id": "97c246c1",
   "metadata": {},
   "outputs": [
    {
     "data": {
      "text/plain": [
       "{'collections': [{'collection': 'ZEGE_Protokolle_BK',\n",
       "   'filenames': [{'file_size': 16243550,\n",
       "     'firma_id': None,\n",
       "     'herausgabedatum': None,\n",
       "     'link': None,\n",
       "     'name': None,\n",
       "     'num_pages': 75,\n",
       "     'save_loc': 'adigross/ZEGE_Protokolle_BK/',\n",
       "     'sprache': None,\n",
       "     'titel': 'ALLE Protokolle 2022',\n",
       "     'typ': 'application/pdf',\n",
       "     'up_date': '2024-02-22'},\n",
       "    {'file_size': 1677862,\n",
       "     'firma_id': None,\n",
       "     'herausgabedatum': None,\n",
       "     'link': None,\n",
       "     'name': None,\n",
       "     'num_pages': 32,\n",
       "     'save_loc': 'adigross/ZEGE_Protokolle_BK/',\n",
       "     'sprache': None,\n",
       "     'titel': 'ALLE Protokolle 2023',\n",
       "     'typ': 'application/pdf',\n",
       "     'up_date': '2024-02-22'}],\n",
       "   'tags': None},\n",
       "  {'collection': 'ZEGE_Mails test',\n",
       "   'filenames': [{'file_size': 30602265,\n",
       "     'firma_id': None,\n",
       "     'herausgabedatum': None,\n",
       "     'link': None,\n",
       "     'name': None,\n",
       "     'num_pages': 327,\n",
       "     'save_loc': 'adigross/ZEGE_Mails test/',\n",
       "     'sprache': None,\n",
       "     'titel': '1 Bauherrschaft',\n",
       "     'typ': 'application/pdf',\n",
       "     'up_date': '2024-02-22'},\n",
       "    {'file_size': 24894570,\n",
       "     'firma_id': None,\n",
       "     'herausgabedatum': None,\n",
       "     'link': None,\n",
       "     'name': None,\n",
       "     'num_pages': 437,\n",
       "     'save_loc': 'adigross/ZEGE_Mails test/',\n",
       "     'sprache': None,\n",
       "     'titel': '2 Behörden',\n",
       "     'typ': 'application/pdf',\n",
       "     'up_date': '2024-02-22'}],\n",
       "   'tags': None}],\n",
       " 'key': 'adigross'}"
      ]
     },
     "execution_count": 23,
     "metadata": {},
     "output_type": "execute_result"
    }
   ],
   "source": [
    "d"
   ]
  },
  {
   "cell_type": "code",
   "execution_count": 24,
   "id": "cebac2df",
   "metadata": {},
   "outputs": [
    {
     "data": {
      "text/plain": [
       "['ZEGE_Protokolle_BK', 'ZEGE_Mails test']"
      ]
     },
     "execution_count": 24,
     "metadata": {},
     "output_type": "execute_result"
    }
   ],
   "source": [
    "kanton_liste = [n[\"collection\"] for n in d[\"collections\"]]\n",
    "\n",
    "kanton_liste"
   ]
  },
  {
   "cell_type": "code",
   "execution_count": 25,
   "id": "b87a00f5",
   "metadata": {},
   "outputs": [
    {
     "name": "stdout",
     "output_type": "stream",
     "text": [
      "User Collections wurde hinzugefügt\n"
     ]
    },
    {
     "data": {
      "text/plain": [
       "{'collections': []}"
      ]
     },
     "execution_count": 25,
     "metadata": {},
     "output_type": "execute_result"
    }
   ],
   "source": [
    "db.insert_data('yyy',{'collections': []})"
   ]
  },
  {
   "cell_type": "code",
   "execution_count": null,
   "id": "7d93dff8",
   "metadata": {},
   "outputs": [],
   "source": []
  }
 ],
 "metadata": {
  "kernelspec": {
   "display_name": "Python 3 (ipykernel)",
   "language": "python",
   "name": "python3"
  },
  "language_info": {
   "codemirror_mode": {
    "name": "ipython",
    "version": 3
   },
   "file_extension": ".py",
   "mimetype": "text/x-python",
   "name": "python",
   "nbconvert_exporter": "python",
   "pygments_lexer": "ipython3",
   "version": "3.9.18"
  }
 },
 "nbformat": 4,
 "nbformat_minor": 5
}
